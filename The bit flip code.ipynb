{
 "cells": [
  {
   "cell_type": "code",
   "execution_count": 1,
   "metadata": {},
   "outputs": [],
   "source": [
    "# Import qiskit\n",
    "from qiskit import *\n",
    "# Import libraries\n",
    "from random import random\n",
    "from qiskit.visualization import plot_histogram, plot_bloch_multivector"
   ]
  },
  {
   "cell_type": "code",
   "execution_count": 2,
   "metadata": {},
   "outputs": [],
   "source": [
    "## SETUP\n",
    "# Protocol uses 3 qubits and 1 classical bit in a register\n",
    "qr = QuantumRegister(3, name=\"q\")    # Protocol uses 3 qubits\n",
    "cr = ClassicalRegister(1, name=\"cr\") # and 1 classical bit\n",
    "bit_flip_circuit = QuantumCircuit(qr, cr)"
   ]
  },
  {
   "cell_type": "code",
   "execution_count": 3,
   "metadata": {},
   "outputs": [],
   "source": [
    "def encoding(qc, q0, q1, q2):\n",
    "    \"\"\"Creates encoding process using qubits q0 & q1 & q2\"\"\"\n",
    "    qc.cx(q0,q1) # CNOT with q1 as control and q0 as target\n",
    "    qc.cx(q0,q2) # CNOT with q2 as control and q0 as target"
   ]
  },
  {
   "cell_type": "code",
   "execution_count": 4,
   "metadata": {},
   "outputs": [],
   "source": [
    "def error_simulation(qc, q0, q1, q2, probability):\n",
    "    \"\"\"Creates error simulation using qubits q0 & q1 & q2\"\"\"\n",
    "    x0 = random() # apply a x gate on q0\n",
    "    x1 = random() # apply a x gate on q1\n",
    "    x2 = random() # apply a x gate on q2\n",
    "    if x0 < probability: # apply a x gate on q0 if x0 < probability\n",
    "        qc.x(q0)\n",
    "    if x1 < probability: # apply a x gate on q1 if x1 < probability\n",
    "        qc.x(q1)\n",
    "    if x2 < probability: # apply a x gate on q2 if x2 < probability\n",
    "        qc.x(q2) "
   ]
  },
  {
   "cell_type": "code",
   "execution_count": 5,
   "metadata": {},
   "outputs": [],
   "source": [
    "def measure(qc, q0):\n",
    "    \"\"\"Measures qubit q0 \"\"\"\n",
    "    qc.barrier()\n",
    "    qc.measure(q0,0)"
   ]
  },
  {
   "cell_type": "code",
   "execution_count": 6,
   "metadata": {},
   "outputs": [],
   "source": [
    "def decoding(qc, q0, q1, q2):\n",
    "    \"\"\"Creates encoding process using qubits q0 & q1 & q2\"\"\"\n",
    "    qc.cx(q0,q1) # CNOT with q1 as control and q0 as target\n",
    "    qc.cx(q0,q2) # CNOT with q2 as control and q0 as target\n",
    "    bit_flip_circuit.ccx(q2,q1,q0)"
   ]
  },
  {
   "cell_type": "code",
   "execution_count": 7,
   "metadata": {},
   "outputs": [
    {
     "data": {
      "image/png": "[encoded data removed]",
      "text/plain": [
       "<Figure size 628.397x264.88 with 1 Axes>"
      ]
     },
     "execution_count": 7,
     "metadata": {},
     "output_type": "execute_result"
    }
   ],
   "source": [
    "# Let's apply the process above to our circuit:\n",
    "\n",
    "# step 1. encoding\n",
    "encoding(bit_flip_circuit, 0, 1, 2)\n",
    "\n",
    "# step 2. error simulation\n",
    "error_simulation(bit_flip_circuit, 0, 1, 2, 0.3)\n",
    "bit_flip_circuit.barrier()\n",
    "\n",
    "# step 3. decoding\n",
    "decoding(bit_flip_circuit, 0, 1, 2)\n",
    "\n",
    "#Measurement\n",
    "measure(bit_flip_circuit, 0)\n",
    "\n",
    "# View the circuit:\n",
    "%matplotlib inline\n",
    "bit_flip_circuit.draw(output='mpl')"
   ]
  },
  {
   "cell_type": "code",
   "execution_count": 8,
   "metadata": {},
   "outputs": [
    {
     "data": {
      "image/png": "[encoded data removed]",
      "text/plain": [
       "<Figure size 504x360 with 1 Axes>"
      ]
     },
     "execution_count": 8,
     "metadata": {},
     "output_type": "execute_result"
    }
   ],
   "source": [
    "backend = BasicAer.get_backend('qasm_simulator')\n",
    "counts = execute(bit_flip_circuit, backend, shots=1024).result().get_counts() # No. of measurement shots = 1024\n",
    "plot_histogram(counts)"
   ]
  }
 ],
 "metadata": {
  "kernelspec": {
   "display_name": "Python 3",
   "language": "python",
   "name": "python3"
  },
  "language_info": {
   "codemirror_mode": {
    "name": "ipython",
    "version": 3
   },
   "file_extension": ".py",
   "mimetype": "text/x-python",
   "name": "python",
   "nbconvert_exporter": "python",
   "pygments_lexer": "ipython3",
   "version": "3.8.3"
  }
 },
 "nbformat": 4,
 "nbformat_minor": 4
}
