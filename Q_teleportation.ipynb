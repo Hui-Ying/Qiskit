{
 "cells": [
  {
   "cell_type": "code",
   "execution_count": 1,
   "metadata": {},
   "outputs": [],
   "source": [
    "#Import qiskit\n",
    "from qiskit import *"
   ]
  },
  {
   "cell_type": "code",
   "execution_count": 2,
   "metadata": {},
   "outputs": [],
   "source": [
    "## SETUP\n",
    "# Protocol uses 3 qubits and 2 classical bits in 2 different registers\n",
    "qr = QuantumRegister(3, name=\"q\")      # Protocol uses 3 qubits\n",
    "crz = ClassicalRegister(1, name=\"crz\") # and 2 classical bits\n",
    "crx = ClassicalRegister(1, name=\"crx\") # in 2 different registers\n",
    "teleportation_circuit = QuantumCircuit(qr, crz, crx)\n"
   ]
  },
  {
   "cell_type": "markdown",
   "metadata": {},
   "source": [
    "Step 1. \n",
    "\n",
    "Bob and Alice shared an entangled pair of qubits.\n",
    "The pair is called a Bell pair. \n",
    "\n",
    "Process for creating a Bell pair between two qubits:\n",
    "1. transfer one of them to the X-basis (|+⟩ and |−⟩) using a Hadamard gate. \n",
    "2. And then apply a CNOT gate onto the other qubit(q2) controlled by q1 in the X-basis.\n",
    "Note: If q1 = 1, then q2 will flip otherwise q2 will not change.\n"
   ]
  },
  {
   "cell_type": "code",
   "execution_count": 4,
   "metadata": {},
   "outputs": [],
   "source": [
    "def create_bell_pair(qc, q1, q2):\n",
    "    \"\"\"Creates a bell pair in qc using qubits q1 & q2\"\"\"\n",
    "    qc.h(q1)     # Put qubit a into state |+>  \n",
    "    qc.cx(q1,q2) # CNOT with q1 as control and q2 as target \n",
    "    "
   ]
  },
  {
   "cell_type": "code",
   "execution_count": 5,
   "metadata": {},
   "outputs": [
    {
     "data": {
      "image/png": "[encoded data removed]",
      "text/plain": [
       "<Figure size 212.91x325.08 with 1 Axes>"
      ]
     },
     "execution_count": 5,
     "metadata": {},
     "output_type": "execute_result"
    }
   ],
   "source": [
    "## SETUP\n",
    "# Protocol uses 3 qubits and 2 classical bits in 2 different registers\n",
    "qr = QuantumRegister(3, name=\"q\")\n",
    "crz, crx = ClassicalRegister(1, name=\"crz\"), ClassicalRegister(1, name=\"crx\")\n",
    "teleportation_circuit = QuantumCircuit(qr, crz, crx)\n",
    "\n",
    "## STEP 1\n",
    "#  qubit q1 and qubit q2 are entangled\n",
    "\n",
    "# Let's apply the process above to our circuit:\n",
    "create_bell_pair(teleportation_circuit, 1, 2)\n",
    "\n",
    "# View the circuit so far:\n",
    "%matplotlib inline\n",
    "teleportation_circuit.draw(output='mpl')\n"
   ]
  },
  {
   "cell_type": "markdown",
   "metadata": {},
   "source": [
    "Step 2. \n",
    "\n",
    "Alice applies a CNOT gate to q1, controlled by |ψ⟩(the qubit she is trying to send Bob). \n",
    "Then Alice applies a Hadamard gate to |ψ⟩. \n",
    "In our quantum circuit, the qubit (|ψ⟩) Alice is trying to send is q0:\n"
   ]
  },
  {
   "cell_type": "code",
   "execution_count": 7,
   "metadata": {},
   "outputs": [],
   "source": [
    "def alice_gates(qc, q0, q1):\n",
    "    qc.cx(q0, q1)\n",
    "    qc.h(q0)\n",
    "    "
   ]
  },
  {
   "cell_type": "code",
   "execution_count": 8,
   "metadata": {},
   "outputs": [
    {
     "data": {
      "image/png": "[encoded data removed]",
      "text/plain": [
       "<Figure size 393.51x325.08 with 1 Axes>"
      ]
     },
     "execution_count": 8,
     "metadata": {},
     "output_type": "execute_result"
    }
   ],
   "source": [
    "## SETUP\n",
    "# Protocol uses 3 qubits and 2 classical bits in 2 different registers\n",
    "qr = QuantumRegister(3, name=\"q\")\n",
    "crz, crx = ClassicalRegister(1, name=\"crz\"), ClassicalRegister(1, name=\"crx\")\n",
    "teleportation_circuit = QuantumCircuit(qr, crz, crx)\n",
    "\n",
    "## STEP 1\n",
    "create_bell_pair(teleportation_circuit, 1, 2)\n",
    "\n",
    "## STEP 2\n",
    "teleportation_circuit.barrier() # Use barrier to separate steps\n",
    "alice_gates(teleportation_circuit, 0, 1)\n",
    "teleportation_circuit.draw(output='mpl')\n"
   ]
  },
  {
   "cell_type": "markdown",
   "metadata": {},
   "source": [
    "Step 3. \n",
    "\n",
    "Next, Alice applies a measurement to both qubits that she owns,  \n",
    "q1 and |ψ⟩, and stores this result in two classical bits. She then sends these two bits to Bob.\n"
   ]
  },
  {
   "cell_type": "code",
   "execution_count": 10,
   "metadata": {},
   "outputs": [],
   "source": [
    "def measure_and_send(qc, q1, q2):\n",
    "    \"\"\"Measures qubits a & b and 'sends' the results to Bob\"\"\"\n",
    "    qc.barrier()\n",
    "    qc.measure(q1,0)\n",
    "    qc.measure(q2,1)\n",
    "    "
   ]
  },
  {
   "cell_type": "code",
   "execution_count": 11,
   "metadata": {},
   "outputs": [
    {
     "data": {
      "image/png": "[encoded data removed]",
      "text/plain": [
       "<Figure size 574.11x325.08 with 1 Axes>"
      ]
     },
     "execution_count": 11,
     "metadata": {},
     "output_type": "execute_result"
    }
   ],
   "source": [
    "## SETUP\n",
    "# Protocol uses 3 qubits and 2 classical bits in 2 different registers\n",
    "qr = QuantumRegister(3, name=\"q\")\n",
    "crz, crx = ClassicalRegister(1, name=\"crz\"), ClassicalRegister(1, name=\"crx\")\n",
    "teleportation_circuit = QuantumCircuit(qr, crz, crx)\n",
    "\n",
    "## STEP 1\n",
    "create_bell_pair(teleportation_circuit, 1, 2)\n",
    "\n",
    "## STEP 2\n",
    "teleportation_circuit.barrier() # Use barrier to separate steps\n",
    "alice_gates(teleportation_circuit, 0, 1)\n",
    "\n",
    "## STEP 3\n",
    "measure_and_send(teleportation_circuit, 0 ,1)\n",
    "teleportation_circuit.draw(output='mpl')\n"
   ]
  },
  {
   "cell_type": "markdown",
   "metadata": {},
   "source": [
    "Step 4. \n",
    "\n",
    "Bob, who already has the qubit q2, then applies the following gates depending on the state of the classical bits:\n",
    "\n",
    "00  → Do nothing\n",
    "\n",
    "01  → Apply X gate\n",
    "\n",
    "10  → Apply Z gate\n",
    "\n",
    "11  → Apply ZX gate\n",
    "\n"
   ]
  },
  {
   "cell_type": "code",
   "execution_count": 13,
   "metadata": {},
   "outputs": [],
   "source": [
    "# This function takes a QuantumCircuit (qc), integer (qubit)\n",
    "# and ClassicalRegisters (crz & crx) to decide which gates to apply\n",
    "def bob_gates(qc, qubit, crz, crx):\n",
    "    # Here we use c_if to control our gates with a classical\n",
    "    # bit instead of a qubit\n",
    "    qc.x(qubit).c_if(crx, 1) # Apply gates if the registers \n",
    "    qc.z(qubit).c_if(crz, 1) # are in the state '1'\n",
    "    "
   ]
  },
  {
   "cell_type": "code",
   "execution_count": 14,
   "metadata": {},
   "outputs": [
    {
     "data": {
      "image/png": "[encoded data removed]",
      "text/plain": [
       "<Figure size 754.71x325.08 with 1 Axes>"
      ]
     },
     "execution_count": 14,
     "metadata": {},
     "output_type": "execute_result"
    }
   ],
   "source": [
    "## SETUP\n",
    "# Protocol uses 3 qubits and 2 classical bits in 2 different registers\n",
    "qr = QuantumRegister(3, name=\"q\")\n",
    "crz, crx = ClassicalRegister(1, name=\"crz\"), ClassicalRegister(1, name=\"crx\")\n",
    "teleportation_circuit = QuantumCircuit(qr, crz, crx)\n",
    "\n",
    "## STEP 1\n",
    "create_bell_pair(teleportation_circuit, 1, 2)\n",
    "\n",
    "## STEP 2\n",
    "teleportation_circuit.barrier() # Use barrier to separate steps\n",
    "alice_gates(teleportation_circuit, 0, 1)\n",
    "\n",
    "## STEP 3\n",
    "measure_and_send(teleportation_circuit, 0, 1)\n",
    "\n",
    "## STEP 4\n",
    "teleportation_circuit.barrier() # Use barrier to separate steps\n",
    "bob_gates(teleportation_circuit, 2, crz, crx)\n",
    "teleportation_circuit.draw(output='mpl')\n"
   ]
  }
 ],
 "metadata": {
  "kernelspec": {
   "display_name": "Python 3",
   "language": "python",
   "name": "python3"
  },
  "language_info": {
   "codemirror_mode": {
    "name": "ipython",
    "version": 3
   },
   "file_extension": ".py",
   "mimetype": "text/x-python",
   "name": "python",
   "nbconvert_exporter": "python",
   "pygments_lexer": "ipython3",
   "version": "3.8.3"
  }
 },
 "nbformat": 4,
 "nbformat_minor": 4
}
